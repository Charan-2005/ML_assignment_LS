{
  "cells": [
    {
      "cell_type": "code",
      "source": [
        "from google.colab import drive\n",
        "drive.mount('/content/drive')"
      ],
      "metadata": {
        "colab": {
          "base_uri": "https://localhost:8080/"
        },
        "id": "i7QBcA-bYT4R",
        "outputId": "efbcede1-79aa-4212-c4eb-9fb9e230c116"
      },
      "execution_count": null,
      "outputs": [
        {
          "output_type": "stream",
          "name": "stdout",
          "text": [
            "Mounted at /content/drive\n"
          ]
        }
      ]
    },
    {
      "cell_type": "code",
      "execution_count": null,
      "metadata": {
        "id": "GkK46DZDXt8M"
      },
      "outputs": [],
      "source": [
        "import numpy as np\n",
        "import tensorflow as tf\n",
        "from tensorflow.keras.preprocessing.image import ImageDataGenerator\n",
        "from tensorflow.keras.models import Sequential\n",
        "from tensorflow.keras.layers import Dense, Flatten\n",
        "from sklearn.model_selection import train_test_split\n",
        "import matplotlib.pyplot as plt\n",
        "np.random.seed(69)\n",
        "tf.random.set_seed(69)\n"
      ]
    },
    {
      "cell_type": "code",
      "execution_count": null,
      "metadata": {
        "colab": {
          "base_uri": "https://localhost:8080/"
        },
        "id": "AVmS4iiWXt8P",
        "outputId": "5a02cebd-cd51-49d0-97ee-b1079485b897"
      },
      "outputs": [
        {
          "output_type": "stream",
          "name": "stdout",
          "text": [
            "Found 269 images belonging to 2 classes.\n",
            "Found 269 images belonging to 2 classes.\n"
          ]
        }
      ],
      "source": [
        "data_dir = '/content/drive/MyDrive/homer_bart'\n",
        "datagen = ImageDataGenerator(\n",
        "    rescale=1./255,\n",
        "\n",
        ")\n",
        "\n",
        "train_data_gen = datagen.flow_from_directory(\n",
        "    data_dir,\n",
        "    target_size=(64, 64),\n",
        "    batch_size=4,\n",
        "    class_mode='categorical',\n",
        "\n",
        "    seed=123\n",
        ")\n",
        "\n",
        "test_data_gen = datagen.flow_from_directory(\n",
        "    data_dir,\n",
        "    target_size=(64, 64),\n",
        "    batch_size=4,\n",
        "    class_mode='categorical',\n",
        "\n",
        "    seed=123\n",
        ")\n"
      ]
    },
    {
      "cell_type": "code",
      "execution_count": null,
      "metadata": {
        "id": "eJCSDHR9Xt8Q"
      },
      "outputs": [],
      "source": [
        "model = Sequential([\n",
        "    Flatten(input_shape=(64, 64, 3)),\n",
        "    Dense(128, activation='relu'),\n",
        "    Dense(64, activation='relu'),\n",
        "    Dense(32, activation='relu'),\n",
        "    Dense(2, activation='softmax')\n",
        "])\n",
        "\n",
        "model.compile(\n",
        "    optimizer='adam',\n",
        "    loss='categorical_crossentropy',\n",
        "    metrics=['accuracy']\n",
        ")\n"
      ]
    },
    {
      "cell_type": "code",
      "execution_count": null,
      "metadata": {
        "colab": {
          "base_uri": "https://localhost:8080/"
        },
        "id": "JJ2YbMkdXt8R",
        "outputId": "b5faf995-2c85-4e85-f811-b7fd69ac2562"
      },
      "outputs": [
        {
          "output_type": "stream",
          "name": "stdout",
          "text": [
            "Epoch 1/35\n",
            "68/68 [==============================] - 4s 63ms/step - loss: 0.0021 - accuracy: 1.0000 - val_loss: 0.0016 - val_accuracy: 1.0000\n",
            "Epoch 2/35\n",
            "68/68 [==============================] - 4s 61ms/step - loss: 0.0016 - accuracy: 1.0000 - val_loss: 0.0014 - val_accuracy: 1.0000\n",
            "Epoch 3/35\n",
            "68/68 [==============================] - 6s 83ms/step - loss: 0.0014 - accuracy: 1.0000 - val_loss: 0.0012 - val_accuracy: 1.0000\n",
            "Epoch 4/35\n",
            "68/68 [==============================] - 5s 75ms/step - loss: 0.0012 - accuracy: 1.0000 - val_loss: 0.0011 - val_accuracy: 1.0000\n",
            "Epoch 5/35\n",
            "68/68 [==============================] - 5s 74ms/step - loss: 9.8045e-04 - accuracy: 1.0000 - val_loss: 9.1773e-04 - val_accuracy: 1.0000\n",
            "Epoch 6/35\n",
            "68/68 [==============================] - 5s 77ms/step - loss: 9.6927e-04 - accuracy: 1.0000 - val_loss: 8.0941e-04 - val_accuracy: 1.0000\n",
            "Epoch 7/35\n",
            "68/68 [==============================] - 4s 59ms/step - loss: 8.2423e-04 - accuracy: 1.0000 - val_loss: 7.8337e-04 - val_accuracy: 1.0000\n",
            "Epoch 8/35\n",
            "68/68 [==============================] - 4s 58ms/step - loss: 7.0195e-04 - accuracy: 1.0000 - val_loss: 6.2506e-04 - val_accuracy: 1.0000\n",
            "Epoch 9/35\n",
            "68/68 [==============================] - 5s 79ms/step - loss: 6.3133e-04 - accuracy: 1.0000 - val_loss: 5.8310e-04 - val_accuracy: 1.0000\n",
            "Epoch 10/35\n",
            "68/68 [==============================] - 4s 60ms/step - loss: 5.5182e-04 - accuracy: 1.0000 - val_loss: 5.0649e-04 - val_accuracy: 1.0000\n",
            "Epoch 11/35\n",
            "68/68 [==============================] - 4s 60ms/step - loss: 4.9116e-04 - accuracy: 1.0000 - val_loss: 4.8514e-04 - val_accuracy: 1.0000\n",
            "Epoch 12/35\n",
            "68/68 [==============================] - 5s 79ms/step - loss: 4.6374e-04 - accuracy: 1.0000 - val_loss: 4.1465e-04 - val_accuracy: 1.0000\n",
            "Epoch 13/35\n",
            "68/68 [==============================] - 4s 60ms/step - loss: 4.1060e-04 - accuracy: 1.0000 - val_loss: 3.7720e-04 - val_accuracy: 1.0000\n",
            "Epoch 14/35\n",
            "68/68 [==============================] - 4s 60ms/step - loss: 3.7155e-04 - accuracy: 1.0000 - val_loss: 3.4198e-04 - val_accuracy: 1.0000\n",
            "Epoch 15/35\n",
            "68/68 [==============================] - 6s 83ms/step - loss: 3.6314e-04 - accuracy: 1.0000 - val_loss: 3.1121e-04 - val_accuracy: 1.0000\n",
            "Epoch 16/35\n",
            "68/68 [==============================] - 4s 61ms/step - loss: 3.1221e-04 - accuracy: 1.0000 - val_loss: 2.8568e-04 - val_accuracy: 1.0000\n",
            "Epoch 17/35\n",
            "68/68 [==============================] - 4s 61ms/step - loss: 2.8403e-04 - accuracy: 1.0000 - val_loss: 2.6439e-04 - val_accuracy: 1.0000\n",
            "Epoch 18/35\n",
            "68/68 [==============================] - 6s 84ms/step - loss: 2.6317e-04 - accuracy: 1.0000 - val_loss: 2.4472e-04 - val_accuracy: 1.0000\n",
            "Epoch 19/35\n",
            "68/68 [==============================] - 4s 61ms/step - loss: 2.4524e-04 - accuracy: 1.0000 - val_loss: 2.2769e-04 - val_accuracy: 1.0000\n",
            "Epoch 20/35\n",
            "68/68 [==============================] - 6s 84ms/step - loss: 2.2274e-04 - accuracy: 1.0000 - val_loss: 2.1624e-04 - val_accuracy: 1.0000\n",
            "Epoch 21/35\n",
            "68/68 [==============================] - 4s 60ms/step - loss: 2.1206e-04 - accuracy: 1.0000 - val_loss: 1.9756e-04 - val_accuracy: 1.0000\n",
            "Epoch 22/35\n",
            "68/68 [==============================] - 4s 62ms/step - loss: 1.9632e-04 - accuracy: 1.0000 - val_loss: 1.8328e-04 - val_accuracy: 1.0000\n",
            "Epoch 23/35\n",
            "68/68 [==============================] - 5s 75ms/step - loss: 1.8982e-04 - accuracy: 1.0000 - val_loss: 1.8347e-04 - val_accuracy: 1.0000\n",
            "Epoch 24/35\n",
            "68/68 [==============================] - 5s 75ms/step - loss: 1.7461e-04 - accuracy: 1.0000 - val_loss: 1.6574e-04 - val_accuracy: 1.0000\n",
            "Epoch 25/35\n",
            "68/68 [==============================] - 4s 61ms/step - loss: 1.6933e-04 - accuracy: 1.0000 - val_loss: 1.5044e-04 - val_accuracy: 1.0000\n",
            "Epoch 26/35\n",
            "68/68 [==============================] - 6s 87ms/step - loss: 1.4879e-04 - accuracy: 1.0000 - val_loss: 1.4124e-04 - val_accuracy: 1.0000\n",
            "Epoch 27/35\n",
            "68/68 [==============================] - 6s 85ms/step - loss: 1.4162e-04 - accuracy: 1.0000 - val_loss: 1.3331e-04 - val_accuracy: 1.0000\n",
            "Epoch 28/35\n",
            "68/68 [==============================] - 4s 60ms/step - loss: 1.3122e-04 - accuracy: 1.0000 - val_loss: 1.2563e-04 - val_accuracy: 1.0000\n",
            "Epoch 29/35\n",
            "68/68 [==============================] - 5s 67ms/step - loss: 1.2836e-04 - accuracy: 1.0000 - val_loss: 1.1900e-04 - val_accuracy: 1.0000\n",
            "Epoch 30/35\n",
            "68/68 [==============================] - 4s 65ms/step - loss: 1.1879e-04 - accuracy: 1.0000 - val_loss: 1.1159e-04 - val_accuracy: 1.0000\n",
            "Epoch 31/35\n",
            "68/68 [==============================] - 4s 61ms/step - loss: 1.0855e-04 - accuracy: 1.0000 - val_loss: 1.0622e-04 - val_accuracy: 1.0000\n",
            "Epoch 32/35\n",
            "68/68 [==============================] - 5s 76ms/step - loss: 1.0551e-04 - accuracy: 1.0000 - val_loss: 9.9235e-05 - val_accuracy: 1.0000\n",
            "Epoch 33/35\n",
            "68/68 [==============================] - 4s 62ms/step - loss: 9.8554e-05 - accuracy: 1.0000 - val_loss: 9.3761e-05 - val_accuracy: 1.0000\n",
            "Epoch 34/35\n",
            "68/68 [==============================] - 6s 87ms/step - loss: 9.9415e-05 - accuracy: 1.0000 - val_loss: 8.5444e-05 - val_accuracy: 1.0000\n",
            "Epoch 35/35\n",
            "68/68 [==============================] - 6s 86ms/step - loss: 8.4502e-05 - accuracy: 1.0000 - val_loss: 8.3046e-05 - val_accuracy: 1.0000\n"
          ]
        }
      ],
      "source": [
        "history = model.fit(\n",
        "    train_data_gen,\n",
        "    validation_data=test_data_gen,\n",
        "    epochs=35 )\n"
      ]
    },
    {
      "cell_type": "code",
      "execution_count": null,
      "metadata": {
        "colab": {
          "base_uri": "https://localhost:8080/"
        },
        "id": "uY8SEXrNXt8R",
        "outputId": "a195e528-6ec1-4abf-ec22-9c2342d55196"
      },
      "outputs": [
        {
          "output_type": "stream",
          "name": "stdout",
          "text": [
            "68/68 [==============================] - 2s 26ms/step - loss: 8.3046e-05 - accuracy: 1.0000\n",
            "Test Accuracy: 1.0\n"
          ]
        }
      ],
      "source": [
        "test_loss, test_acc = model.evaluate(test_data_gen)\n",
        "print(f'Test Accuracy: {test_acc}')\n"
      ]
    }
  ],
  "metadata": {
    "kernelspec": {
      "display_name": "Python 3.12.3",
      "language": "python",
      "name": "myenv"
    },
    "language_info": {
      "codemirror_mode": {
        "name": "ipython",
        "version": 3
      },
      "file_extension": ".py",
      "mimetype": "text/x-python",
      "name": "python",
      "nbconvert_exporter": "python",
      "pygments_lexer": "ipython3",
      "version": "3.11.9"
    },
    "colab": {
      "provenance": []
    }
  },
  "nbformat": 4,
  "nbformat_minor": 0
}